{
 "cells": [
  {
   "cell_type": "markdown",
   "metadata": {},
   "source": [
    "## Cálculo de valores desde diccionario"
   ]
  },
  {
   "cell_type": "markdown",
   "metadata": {},
   "source": [
    "Creacion del diccionario"
   ]
  },
  {
   "cell_type": "code",
   "execution_count": 1,
   "metadata": {},
   "outputs": [],
   "source": [
    "planet_moons = {\n",
    "    'mercurio': 0,\n",
    "    'venus': 0,\n",
    "    'tierra': 1,\n",
    "    'marte': 2,\n",
    "    'jupiter': 79,\n",
    "    'saturno': 82,\n",
    "    'urano': 27,\n",
    "    'neptuno': 14,\n",
    "    'pluton': 5,\n",
    "    'haumea': 2,\n",
    "    'makemake': 1,\n",
    "    'eris': 1,\n",
    "}\n"
   ]
  }
 ],
 "metadata": {
  "interpreter": {
   "hash": "37ce596c3a08b3c6ca6a2fa785408a6d12660123f11a5a853eb52bac1667ced7"
  },
  "kernelspec": {
   "display_name": "Python 3.10.2 64-bit",
   "language": "python",
   "name": "python3"
  },
  "language_info": {
   "codemirror_mode": {
    "name": "ipython",
    "version": 3
   },
   "file_extension": ".py",
   "mimetype": "text/x-python",
   "name": "python",
   "nbconvert_exporter": "python",
   "pygments_lexer": "ipython3",
   "version": "3.10.2"
  },
  "orig_nbformat": 4
 },
 "nbformat": 4,
 "nbformat_minor": 2
}
