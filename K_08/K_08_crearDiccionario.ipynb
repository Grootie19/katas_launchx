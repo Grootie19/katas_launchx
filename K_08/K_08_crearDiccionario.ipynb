{
 "cells": [
  {
   "cell_type": "markdown",
   "metadata": {},
   "source": [
    "## Introduccion a diccionario"
   ]
  },
  {
   "cell_type": "markdown",
   "metadata": {},
   "source": [
    "Se crea y rellena el diccionario"
   ]
  },
  {
   "cell_type": "code",
   "execution_count": 1,
   "metadata": {},
   "outputs": [],
   "source": [
    "planeta = {\n",
    "    'nombre' : 'Mars',\n",
    "    'lunas' : 2\n",
    "}"
   ]
  },
  {
   "cell_type": "markdown",
   "metadata": {},
   "source": [
    "Se imprime el diccionario"
   ]
  },
  {
   "cell_type": "code",
   "execution_count": 2,
   "metadata": {},
   "outputs": [
    {
     "name": "stdout",
     "output_type": "stream",
     "text": [
      "Nombre del planeta: Mars\n",
      "Numero de lunas: 2\n"
     ]
    }
   ],
   "source": [
    "print(f\"Nombre del planeta: {planeta['nombre']}\\nNumero de lunas: {planeta['lunas']}\")\n"
   ]
  },
  {
   "cell_type": "markdown",
   "metadata": {},
   "source": [
    "Se actualiza la lista de claves que contiene el diccionario\n",
    "> un diccionario puede anidar otros diccionarios eg. circunferencia (km) es un diccionario anidado"
   ]
  },
  {
   "cell_type": "code",
   "execution_count": 3,
   "metadata": {},
   "outputs": [],
   "source": [
    "planeta.update({\n",
    "    'circunferencia (km)': {\n",
    "        'polar': 6752,\n",
    "        'equatorial': 6792\n",
    "    }\n",
    "})\n"
   ]
  },
  {
   "cell_type": "markdown",
   "metadata": {},
   "source": [
    "Se imprime el diccionario actualizado"
   ]
  },
  {
   "cell_type": "code",
   "execution_count": 4,
   "metadata": {},
   "outputs": [
    {
     "name": "stdout",
     "output_type": "stream",
     "text": [
      "Nombre del planeta: Mars\n",
      "Numero de lunas: 2\n",
      "Su Circunferencia es:\n",
      "    >Polar: 6752\n",
      "    >Equatorial: 6792\n"
     ]
    }
   ],
   "source": [
    "print(f\"Nombre del planeta: {planeta['nombre']}\\nNumero de lunas: {planeta['lunas']}\\nSu Circunferencia es:\\n    >Polar: {planeta['circunferencia (km)']['polar']}\\n    >Equatorial: {planeta['circunferencia (km)']['equatorial']}\")\n"
   ]
  }
 ],
 "metadata": {
  "interpreter": {
   "hash": "37ce596c3a08b3c6ca6a2fa785408a6d12660123f11a5a853eb52bac1667ced7"
  },
  "kernelspec": {
   "display_name": "Python 3.10.2 64-bit",
   "language": "python",
   "name": "python3"
  },
  "language_info": {
   "codemirror_mode": {
    "name": "ipython",
    "version": 3
   },
   "file_extension": ".py",
   "mimetype": "text/x-python",
   "name": "python",
   "nbconvert_exporter": "python",
   "pygments_lexer": "ipython3",
   "version": "3.10.2"
  },
  "orig_nbformat": 4
 },
 "nbformat": 4,
 "nbformat_minor": 2
}
