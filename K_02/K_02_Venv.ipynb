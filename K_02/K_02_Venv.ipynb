{
 "cells": [
  {
   "cell_type": "markdown",
   "metadata": {},
   "source": [
    "## Creación de un entorno virtual desde CMD"
   ]
  },
  {
   "cell_type": "markdown",
   "metadata": {},
   "source": [
    "![Planeta](https://github.com/isbaruc/KatasBarucSI/blob/e91042b80f9d27e91ecf649bbf001b2e8813cd08/K_02/img/K_02_Venv.png)"
   ]
  }
 ],
 "metadata": {
  "language_info": {
   "name": "python"
  },
  "orig_nbformat": 4
 },
 "nbformat": 4,
 "nbformat_minor": 2
}
