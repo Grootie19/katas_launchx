{
 "cells": [
  {
   "cell_type": "markdown",
   "metadata": {},
   "source": [
    "## Manejo de listas"
   ]
  },
  {
   "cell_type": "markdown",
   "metadata": {},
   "source": [
    "Inicializar la lista"
   ]
  },
  {
   "cell_type": "code",
   "execution_count": 4,
   "metadata": {},
   "outputs": [],
   "source": [
    "planetas = ['Mercurio', 'Venus', 'Tierra', 'Marte', 'Jupiter', 'Saturno', 'Neptuno']\n"
   ]
  },
  {
   "cell_type": "markdown",
   "metadata": {},
   "source": [
    "Solicitar al usuario el nombre del planeta a evaluar"
   ]
  },
  {
   "cell_type": "code",
   "execution_count": 5,
   "metadata": {},
   "outputs": [],
   "source": [
    "namePlanet = input(\"Planeta que buscamos: \")\n"
   ]
  },
  {
   "cell_type": "markdown",
   "metadata": {},
   "source": [
    "Nueva lista, la usaremos para convertir la primera en minusculas, sin perder el formato de escritura original"
   ]
  },
  {
   "cell_type": "code",
   "execution_count": 6,
   "metadata": {},
   "outputs": [],
   "source": [
    "planetasL = []\n"
   ]
  },
  {
   "cell_type": "markdown",
   "metadata": {},
   "source": [
    "Poner en minuscula la lista"
   ]
  },
  {
   "cell_type": "code",
   "execution_count": 7,
   "metadata": {},
   "outputs": [],
   "source": [
    "for planetaM in planetas[0:]:\n",
    "    planetasL.append(planetaM.lower())\n"
   ]
  },
  {
   "cell_type": "markdown",
   "metadata": {},
   "source": [
    "Igualar en minusculas la entrada del usuario"
   ]
  },
  {
   "cell_type": "code",
   "execution_count": 8,
   "metadata": {},
   "outputs": [],
   "source": [
    "namePlanetL = namePlanet.lower()\n"
   ]
  },
  {
   "cell_type": "markdown",
   "metadata": {},
   "source": [
    "Manejo de la exepcion de index (se añade esta exepcion ya que si el usuario tecleaba por accidente algun nombre que no está en la lista el programa se terminaba :( )"
   ]
  },
  {
   "cell_type": "code",
   "execution_count": 9,
   "metadata": {},
   "outputs": [],
   "source": [
    "try:\n",
    "    # Busqueda con todas en minuscula\n",
    "    posPlanet = (planetasL.index(namePlanetL))\n",
    "    # print(planetasL.index(namePlanetL)) # Imprime la posicion del resultado de busqueda\n",
    "except:\n",
    "    posPlanet = -1\n"
   ]
  },
  {
   "cell_type": "markdown",
   "metadata": {},
   "source": [
    "Imprimir los datos según la posicion del planeta selccionado \n",
    "> *Se puede optimizar este bloque de código utilizando plantillas .format"
   ]
  },
  {
   "cell_type": "code",
   "execution_count": 10,
   "metadata": {},
   "outputs": [
    {
     "name": "stdout",
     "output_type": "stream",
     "text": [
      "Has seleccionado el planeta Tierra, este planeta ocupa la posición número 3 en el sistema solar\n",
      "    Los planetas que lo anteceden son ['Mercurio', 'Venus']\n",
      "    Los planetas posteriores son ['Marte', 'Jupiter', 'Saturno', 'Neptuno']\n"
     ]
    }
   ],
   "source": [
    "if posPlanet == 0:\n",
    "    print(f\"\"\"Has seleccionado el planeta {namePlanet}, este planeta ocupa la posición número {posPlanet+1} en el sistema solar\n",
    "    Ningun planeta lo antecede\n",
    "    Los planetas posteriores son {planetas[posPlanet+1:]}\"\"\")\n",
    "\n",
    "elif posPlanet == len(planetas)-1:\n",
    "    print(f\"\"\"Has seleccionado el planeta {namePlanet}, este planeta ocupa la posición número {posPlanet+1} en el sistema solar\n",
    "    Los planetas que lo anteceden son {planetas[0:posPlanet]}\n",
    "    Este es el ultimo planeta\"\"\")\n",
    "\n",
    "else:\n",
    "    print(f\"\"\"Has seleccionado el planeta {namePlanet}, este planeta ocupa la posición número {posPlanet+1} en el sistema solar\n",
    "    Los planetas que lo anteceden son {planetas[0:posPlanet]}\n",
    "    Los planetas posteriores son {planetas[posPlanet+1:]}\"\"\")\n"
   ]
  }
 ],
 "metadata": {
  "interpreter": {
   "hash": "37ce596c3a08b3c6ca6a2fa785408a6d12660123f11a5a853eb52bac1667ced7"
  },
  "kernelspec": {
   "display_name": "Python 3.10.2 64-bit",
   "language": "python",
   "name": "python3"
  },
  "language_info": {
   "codemirror_mode": {
    "name": "ipython",
    "version": 3
   },
   "file_extension": ".py",
   "mimetype": "text/x-python",
   "name": "python",
   "nbconvert_exporter": "python",
   "pygments_lexer": "ipython3",
   "version": "3.10.2"
  },
  "orig_nbformat": 4
 },
 "nbformat": 4,
 "nbformat_minor": 2
}
