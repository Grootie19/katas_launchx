{
 "cells": [
  {
   "cell_type": "markdown",
   "metadata": {},
   "source": [
    "## Informe detalla de la misión"
   ]
  },
  {
   "cell_type": "markdown",
   "metadata": {},
   "source": [
    "El informe debe contener los siguientes datos"
   ]
  },
  {
   "cell_type": "markdown",
   "metadata": {},
   "source": [
    "* Hora de prelanzamiento\n",
    "* Tiempo de vuelo\n",
    "* Destino\n",
    "* Nombre de los tanques de combustible y su capacidad"
   ]
  },
  {
   "cell_type": "markdown",
   "metadata": {},
   "source": [
    "---"
   ]
  },
  {
   "cell_type": "markdown",
   "metadata": {},
   "source": [
    "Importamos la libreria datetime para utilizar valores de fecha y hora"
   ]
  },
  {
   "cell_type": "code",
   "execution_count": 7,
   "metadata": {},
   "outputs": [],
   "source": [
    "from datetime import timedelta, datetime\n"
   ]
  },
  {
   "cell_type": "markdown",
   "metadata": {},
   "source": [
    "Creamos la funcion y definimos los argumentos que contendrá\n",
    "> Dentro de los argumentos tendremos argumentos variables (*args) y argumentos variables de palabras clave (**kw)"
   ]
  },
  {
   "cell_type": "code",
   "execution_count": 8,
   "metadata": {},
   "outputs": [],
   "source": [
    "def informeMision(nDestino,  tVuelo, *minToLauch, **tanques):\n",
    "    combustibleTotal = 0\n",
    "    minutos = sum(minToLauch)\n",
    "    hSalida = timedelta(minutes=minutos) + datetime.now()\n",
    "    llegada = hSalida + timedelta(minutes=tVuelo)\n",
    "\n",
    "    for capTanque in tanques.values():\n",
    "        combustibleTotal += capTanque\n",
    "\n",
    "    informe = f\"\"\"- Faltan: {minutos} minutos para el prelanzamiento\n",
    "- Hora de despegue estimada: {hSalida.strftime(\"%H: %M\")}\n",
    "- El tiempo de vuelo esperado es de: {tVuelo} minutos\n",
    "- Destino:  {nDestino}\n",
    "- Se estima llegar el dia: {llegada.strftime(\"%A\")} a las {llegada.strftime(\"%H: %M\")} \n",
    "- La nave cuenta con {combustibleTotal} toneladas de combustible\n",
    "distribuidos en {len(tanques)}\n",
    "\"\"\"\n",
    "\n",
    "    for nTanque, capacidad in tanques.items():\n",
    "        informe += f\"   > {nTanque} con una capacidad de {capacidad} toneladas\\n\"\n",
    "\n",
    "    return informe\n"
   ]
  },
  {
   "cell_type": "markdown",
   "metadata": {},
   "source": [
    "Invocamos la función en un print y le enviamos los argumentos a evaluar"
   ]
  },
  {
   "cell_type": "code",
   "execution_count": 9,
   "metadata": {},
   "outputs": [
    {
     "name": "stdout",
     "output_type": "stream",
     "text": [
      "- Faltan: 120 minutos para el prelanzamiento\n",
      "- Hora de despegue estimada: 21: 38\n",
      "- El tiempo de vuelo esperado es de: 120 minutos\n",
      "- Destino:  Luna\n",
      "- Se estima llegar el dia: Wednesday a las 23: 38 \n",
      "- La nave cuenta con 180 toneladas de combustible\n",
      "distribuidos en 3\n",
      "   > externo con una capacidad de 100 toneladas\n",
      "   > interno con una capacidad de 60 toneladas\n",
      "   > adicional con una capacidad de 20 toneladas\n",
      "\n"
     ]
    }
   ],
   "source": [
    "print(informeMision('Luna', 120, 60, 30, 30,\n",
    "      externo=100, interno=60, adicional=20))\n"
   ]
  }
 ],
 "metadata": {
  "interpreter": {
   "hash": "37ce596c3a08b3c6ca6a2fa785408a6d12660123f11a5a853eb52bac1667ced7"
  },
  "kernelspec": {
   "display_name": "Python 3.10.2 64-bit",
   "language": "python",
   "name": "python3"
  },
  "language_info": {
   "codemirror_mode": {
    "name": "ipython",
    "version": 3
   },
   "file_extension": ".py",
   "mimetype": "text/x-python",
   "name": "python",
   "nbconvert_exporter": "python",
   "pygments_lexer": "ipython3",
   "version": "3.10.2"
  },
  "orig_nbformat": 4
 },
 "nbformat": 4,
 "nbformat_minor": 2
}
