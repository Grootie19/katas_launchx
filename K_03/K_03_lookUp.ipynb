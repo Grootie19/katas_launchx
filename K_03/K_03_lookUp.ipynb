{
 "cells": [
  {
   "cell_type": "markdown",
   "metadata": {},
   "source": [
    "## Avistamiento de Asteroide\n",
    "Avisar que es posible el avistamiento de un asteroide\n",
    "El asteroide tiene una velocidad mayor o igual a 20 km/s"
   ]
  },
  {
   "cell_type": "code",
   "execution_count": 1,
   "metadata": {},
   "outputs": [],
   "source": [
    "# Importar las librerias\n",
    "import random as rm\n",
    "from turtle import st"
   ]
  },
  {
   "cell_type": "markdown",
   "metadata": {},
   "source": [
    "Variables"
   ]
  },
  {
   "cell_type": "code",
   "execution_count": 3,
   "metadata": {},
   "outputs": [],
   "source": [
    "velActual = 19\n",
    "lati = rm.randint(111111, 999999)\n",
    "long = rm.randint(111111, 999999)"
   ]
  },
  {
   "cell_type": "markdown",
   "metadata": {},
   "source": [
    "Operadores condicionales"
   ]
  },
  {
   "cell_type": "code",
   "execution_count": 4,
   "metadata": {},
   "outputs": [
    {
     "name": "stdout",
     "output_type": "stream",
     "text": [
      "Un asteroide se dirige a la tierra, pero es muy poco probable su avistamiento\n"
     ]
    }
   ],
   "source": [
    "if velActual >= 20 and velActual <= 25:\n",
    "    # Instrucción\n",
    "    print(\"Mira al cielo, es problable que veas un asteroide, podrás verlo si estás en las siguientes coordenadas:\\n\" +\n",
    "          str(lati) + \"\\n\" + str(long))\n",
    "\n",
    "elif velActual >= 8 and velActual <= 19:\n",
    "    # Instrucción\n",
    "    print(\"Un asteroide se dirige a la tierra, pero es muy poco probable su avistamiento\")\n",
    "\n",
    "elif velActual < 8:\n",
    "    # Instrucción\n",
    "    print(\"La velocidad del asteroide es demasiado baja para causar un avistamiento\")\n",
    "\n",
    "else:\n",
    "    # Instrucción\n",
    "    print(\"Un asteroide viene en camino, SU VELOCIDAD ES SUPERIOR AL RANGO CRITICO.\\nPunto de impacto estimado \\n\" +\n",
    "          str(lati) + \"\\n\" + str(long))\n"
   ]
  }
 ],
 "metadata": {
  "interpreter": {
   "hash": "37ce596c3a08b3c6ca6a2fa785408a6d12660123f11a5a853eb52bac1667ced7"
  },
  "kernelspec": {
   "display_name": "Python 3.10.2 64-bit",
   "language": "python",
   "name": "python3"
  },
  "language_info": {
   "codemirror_mode": {
    "name": "ipython",
    "version": 3
   },
   "file_extension": ".py",
   "mimetype": "text/x-python",
   "name": "python",
   "nbconvert_exporter": "python",
   "pygments_lexer": "ipython3",
   "version": "3.10.2"
  },
  "orig_nbformat": 4
 },
 "nbformat": 4,
 "nbformat_minor": 2
}
