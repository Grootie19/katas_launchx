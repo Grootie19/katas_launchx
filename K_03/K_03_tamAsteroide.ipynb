{
 "cells": [
  {
   "cell_type": "markdown",
   "metadata": {},
   "source": [
    "## Asteroide Detector\n",
    "### Tamaño - Velocidad - Avistamiento"
   ]
  },
  {
   "cell_type": "markdown",
   "metadata": {},
   "source": [
    "Variables"
   ]
  },
  {
   "cell_type": "code",
   "execution_count": 2,
   "metadata": {},
   "outputs": [],
   "source": [
    "dimAsteroide = 11\n",
    "velAsteroide = 24"
   ]
  },
  {
   "cell_type": "markdown",
   "metadata": {},
   "source": [
    "Operadores condicionales"
   ]
  },
  {
   "cell_type": "code",
   "execution_count": 3,
   "metadata": {},
   "outputs": [
    {
     "name": "stdout",
     "output_type": "stream",
     "text": [
      "Velocidad: 24 \n",
      "Dimension: 11\n",
      "Asteroide entrando a la atmosfera, es posible que puedas verlo, de acuerdo a su tamaño el riesgo al impactar es: \n",
      "ESCASO\n"
     ]
    }
   ],
   "source": [
    "print(f\"Velocidad: {velAsteroide} \\nDimension: {dimAsteroide}\")\n",
    "if velAsteroide > 25:\n",
    "    #Instruccion\n",
    "    print(\"ASTEROIDE EN VELOCIDAD CRITICA, \")\n",
    "\n",
    "    #Segunda condicion\n",
    "    if dimAsteroide > 25 and dimAsteroide < 1000:\n",
    "        #Instrucción\n",
    "        print(\"Daño estimado: GRAVE\")\n",
    "\n",
    "    elif dimAsteroide >= 1000:\n",
    "        #Instrucción\n",
    "        print(\"Daño estimado: DEVASTACION INMINENTE\")\n",
    "\n",
    "    elif dimAsteroide < 25:\n",
    "        print(\"Daño estimado: ESCASO\")\n",
    "\n",
    "elif velAsteroide >= 20 and velAsteroide <= 25:\n",
    "    #Instrucción\n",
    "    print(\"Asteroide entrando a la atmosfera, es posible que puedas verlo, de acuerdo a su tamaño el riesgo al impactar es: \")\n",
    "\n",
    "    #Segunda condicion\n",
    "    if dimAsteroide > 25 and dimAsteroide < 1000:\n",
    "        #Instrucción\n",
    "        print(\"MODERADO\")\n",
    "\n",
    "    elif dimAsteroide >= 1000:\n",
    "        #Instrucción\n",
    "        print(\"GRAVE\")\n",
    "\n",
    "    elif dimAsteroide < 25:\n",
    "        print(\"ESCASO\")\n",
    "\n",
    "elif velAsteroide < 20 and velAsteroide < 0:\n",
    "    #Instrucción\n",
    "    print(\"Asteroide aproximandose a baja velocidad, las posibilidades de avistamiento son escasas\")\n",
    "\n",
    "    #Segunda condicion\n",
    "    if dimAsteroide > 25 and dimAsteroide < 1000:\n",
    "        #Instrucción\n",
    "        print(\"BAJO\")\n",
    "\n",
    "    elif dimAsteroide >= 1000:\n",
    "        #Instrucción\n",
    "        print(\"MODERADO\")\n",
    "\n",
    "    elif dimAsteroide < 25:\n",
    "        print(\"NULO\")\n",
    "\n",
    "else:\n",
    "    print(\"No hay datos de asteroides actualmente\")\n"
   ]
  }
 ],
 "metadata": {
  "interpreter": {
   "hash": "37ce596c3a08b3c6ca6a2fa785408a6d12660123f11a5a853eb52bac1667ced7"
  },
  "kernelspec": {
   "display_name": "Python 3.10.2 64-bit",
   "language": "python",
   "name": "python3"
  },
  "language_info": {
   "codemirror_mode": {
    "name": "ipython",
    "version": 3
   },
   "file_extension": ".py",
   "mimetype": "text/x-python",
   "name": "python",
   "nbconvert_exporter": "python",
   "pygments_lexer": "ipython3",
   "version": "3.10.2"
  },
  "orig_nbformat": 4
 },
 "nbformat": 4,
 "nbformat_minor": 2
}
