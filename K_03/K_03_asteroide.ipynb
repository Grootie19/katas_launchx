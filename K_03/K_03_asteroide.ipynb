{
 "cells": [
  {
   "cell_type": "markdown",
   "metadata": {},
   "source": [
    "## Asteroide Detector"
   ]
  },
  {
   "cell_type": "code",
   "execution_count": 1,
   "metadata": {},
   "outputs": [
    {
     "name": "stdout",
     "output_type": "stream",
     "text": [
      "¡ADVERTENCIA VELOCIDAD DEL ASTEROIDE CRITICA!\n"
     ]
    }
   ],
   "source": [
    "# Variable\n",
    "velActual = 49\n",
    "\n",
    "# Expresión de prueba (Condicion)\n",
    "if velActual > 25 :\n",
    "    # Instrucción if\n",
    "    print(\"¡ADVERTENCIA VELOCIDAD DEL ASTEROIDE CRITICA!\")\n",
    "else :\n",
    "    # Instrucción else\n",
    "    print(\"VELOCIDAD DEL ASTEROIDE DENTRO DEL PARAMETRO ESPERADO, NO HAY ADVETENCIA\")\n"
   ]
  }
 ],
 "metadata": {
  "interpreter": {
   "hash": "37ce596c3a08b3c6ca6a2fa785408a6d12660123f11a5a853eb52bac1667ced7"
  },
  "kernelspec": {
   "display_name": "Python 3.10.2 64-bit",
   "language": "python",
   "name": "python3"
  },
  "language_info": {
   "codemirror_mode": {
    "name": "ipython",
    "version": 3
   },
   "file_extension": ".py",
   "mimetype": "text/x-python",
   "name": "python",
   "nbconvert_exporter": "python",
   "pygments_lexer": "ipython3",
   "version": "3.10.2"
  },
  "orig_nbformat": 4
 },
 "nbformat": 4,
 "nbformat_minor": 2
}
