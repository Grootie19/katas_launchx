{
 "cells": [
  {
   "cell_type": "markdown",
   "metadata": {},
   "source": [
    "## Transformar Cadenas"
   ]
  },
  {
   "cell_type": "markdown",
   "metadata": {},
   "source": [
    "###  Datos interesantes de la Luna\n",
    "\n",
    "Datos interesantes acerca de a Luna\n",
    "* La Luna es el unico satelite natural del planeta Tierra\n",
    "* Estos son los datos más interesantes sobre la Luna y como afecta la vida aquí en la Tierra\n",
    "* En promedio, la Luna se aleja de la Tierras 4cm cada año.\n",
    "* Este alejamiento anual no representa ningún efecto inmediato significativo para la Tierra.\n",
    "* La temperatura más alta en un día puede ser de 127 C."
   ]
  },
  {
   "cell_type": "markdown",
   "metadata": {},
   "source": [
    "Variable de Texto Fact"
   ]
  },
  {
   "cell_type": "code",
   "execution_count": 1,
   "metadata": {},
   "outputs": [],
   "source": [
    "text = \"\"\"Interesting facts about the Moon. The Moon is Earth's only satellite.\n",
    "There are several interesting facts about the Moon and how it affects life here on Earth.\n",
    "On average, the Moon moves 4cm away from the Earth every year.\n",
    "This yearly drift is not significant enough to cause immediate effects on Earth.\n",
    "The highest daylight temperature of the Moon is 127 C.\"\"\""
   ]
  },
  {
   "cell_type": "markdown",
   "metadata": {},
   "source": [
    "Dividir texto en oraciones"
   ]
  },
  {
   "cell_type": "code",
   "execution_count": 2,
   "metadata": {},
   "outputs": [],
   "source": [
    "divText = text.split('\\n')\n",
    "# Se puede verificar la división añadiendo\n",
    "# print (divText)\n"
   ]
  },
  {
   "cell_type": "markdown",
   "metadata": {},
   "source": [
    "Palabras clave para la busqueda"
   ]
  },
  {
   "cell_type": "code",
   "execution_count": 6,
   "metadata": {},
   "outputs": [],
   "source": [
    "firstkw = 'average'\n",
    "secondkw = 'temperature'\n",
    "thirdkw = 'distance'"
   ]
  },
  {
   "cell_type": "markdown",
   "metadata": {},
   "source": [
    "Buscar las keyword en las oraciones divididas y cambiar C -> Celsius"
   ]
  },
  {
   "cell_type": "code",
   "execution_count": 7,
   "metadata": {},
   "outputs": [
    {
     "name": "stdout",
     "output_type": "stream",
     "text": [
      "> On average, the Moon moves 4cm away from the Earth every year.\n",
      "> The highest daylight temperature of the Moon is 127 Celsius.\n"
     ]
    }
   ],
   "source": [
    "for fact in divText:\n",
    "    factMin = fact.lower()\n",
    "    if factMin.count(firstkw) > 0 or factMin.count(secondkw) or factMin.count(thirdkw):\n",
    "        if factMin.endswith(\"c.\"):\n",
    "            fact = fact.replace('C', 'Celsius')\n",
    "        print(f\"> {fact}\")\n"
   ]
  }
 ],
 "metadata": {
  "interpreter": {
   "hash": "37ce596c3a08b3c6ca6a2fa785408a6d12660123f11a5a853eb52bac1667ced7"
  },
  "kernelspec": {
   "display_name": "Python 3.10.2 64-bit",
   "language": "python",
   "name": "python3"
  },
  "language_info": {
   "codemirror_mode": {
    "name": "ipython",
    "version": 3
   },
   "file_extension": ".py",
   "mimetype": "text/x-python",
   "name": "python",
   "nbconvert_exporter": "python",
   "pygments_lexer": "ipython3",
   "version": "3.10.2"
  },
  "orig_nbformat": 4
 },
 "nbformat": 4,
 "nbformat_minor": 2
}
