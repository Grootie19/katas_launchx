{
 "cells": [
  {
   "cell_type": "markdown",
   "metadata": {},
   "source": [
    "## Formatear cadenas\n",
    "\n",
    "Acomodar información sobre distintas lunas\n",
    "La información debe presentarse en un formato tabular eg.\n",
    "\n",
    "Gravity Facts about Ganymede\n",
    "\n",
    "Planet Name: Mars\n",
    "Gravity on Ganymede: 1.4300000000000002 m/s2\n",
    "\n",
    "Datos a utilizar\n",
    "Moon, gravedad 0.00162 km/s, planet Earth"
   ]
  },
  {
   "cell_type": "markdown",
   "metadata": {},
   "source": [
    "Variables"
   ]
  },
  {
   "cell_type": "code",
   "execution_count": 26,
   "metadata": {},
   "outputs": [],
   "source": [
    "satName = \"Moon\"\n",
    "gravity = 0.00162\n",
    "planetName = \"Earth\""
   ]
  },
  {
   "cell_type": "markdown",
   "metadata": {},
   "source": [
    "Titulo"
   ]
  },
  {
   "cell_type": "code",
   "execution_count": 14,
   "metadata": {},
   "outputs": [],
   "source": [
    "titulo = (f\"Gravity Facts about {satName}\\n\")"
   ]
  },
  {
   "cell_type": "markdown",
   "metadata": {},
   "source": [
    "Plantilla"
   ]
  },
  {
   "cell_type": "code",
   "execution_count": 15,
   "metadata": {},
   "outputs": [],
   "source": [
    "datos = (f\"\"\"-----------------------------\n",
    "Planet Name: > {planetName}\n",
    "Gravity on {satName}: > {gravity*1000} m/s2\"\"\")"
   ]
  },
  {
   "cell_type": "markdown",
   "metadata": {},
   "source": [
    "Combinación\n",
    "\n",
    "Titulo + Plantilla"
   ]
  },
  {
   "cell_type": "code",
   "execution_count": 16,
   "metadata": {},
   "outputs": [],
   "source": [
    "combText = (f\"{titulo}{datos}\")"
   ]
  },
  {
   "cell_type": "markdown",
   "metadata": {},
   "source": [
    "Imprime la combinación\n",
    "\n",
    "> Se imprime la información de la última vez que se ejecutaron cada uno de los bloques\n",
    "\n",
    "Es decir, si cambiamos los valores de las variables aquí no se verá reflejado el cambio hasta haber ejecutado todos los bloques de código previos"
   ]
  },
  {
   "cell_type": "code",
   "execution_count": 27,
   "metadata": {},
   "outputs": [
    {
     "name": "stdout",
     "output_type": "stream",
     "text": [
      "Gravity Facts about Ganímedes\n",
      "-----------------------------\n",
      "Planet Name: > Marte\n",
      "Gravity on Ganímedes: > 1.4300000000000002 m/s2\n"
     ]
    }
   ],
   "source": [
    "print(combText)\n"
   ]
  },
  {
   "cell_type": "markdown",
   "metadata": {},
   "source": [
    "> **El proposito del siguiente bloque de código es actualizar las variables sin necesidad de ejecutar cada uno de los bloques de este notebook**"
   ]
  },
  {
   "cell_type": "code",
   "execution_count": 28,
   "metadata": {},
   "outputs": [
    {
     "name": "stdout",
     "output_type": "stream",
     "text": [
      "\n",
      "Gravity Facts about Moon\n",
      "-------------------------------\n",
      "Planet Name: > Earth\n",
      "Gravity on Moon: > 1.6199999999999999 m/s2\n",
      "\n"
     ]
    }
   ],
   "source": [
    "plantillaNueva = \"\"\"\n",
    "Gravity Facts about {satName}\n",
    "-------------------------------\n",
    "Planet Name: > {planetName}\n",
    "Gravity on {satName}: > {gravity} m/s2\n",
    "\"\"\"\n",
    "\n",
    "print(plantillaNueva.format(planetName = planetName, satName = satName, gravity = gravity*1000))"
   ]
  }
 ],
 "metadata": {
  "interpreter": {
   "hash": "37ce596c3a08b3c6ca6a2fa785408a6d12660123f11a5a853eb52bac1667ced7"
  },
  "kernelspec": {
   "display_name": "Python 3.10.2 64-bit",
   "language": "python",
   "name": "python3"
  },
  "language_info": {
   "codemirror_mode": {
    "name": "ipython",
    "version": 3
   },
   "file_extension": ".py",
   "mimetype": "text/x-python",
   "name": "python",
   "nbconvert_exporter": "python",
   "pygments_lexer": "ipython3",
   "version": "3.10.2"
  },
  "orig_nbformat": 4
 },
 "nbformat": 4,
 "nbformat_minor": 2
}
